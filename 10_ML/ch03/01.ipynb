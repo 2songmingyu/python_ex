{
 "cells": [
  {
   "cell_type": "code",
   "execution_count": 8,
   "id": "4773cb80-9f1f-43f4-b64d-5292be9a9c9f",
   "metadata": {},
   "outputs": [],
   "source": [
    "from sklearn.base import BaseEstimator\n",
    "import numpy as np"
   ]
  },
  {
   "cell_type": "code",
   "execution_count": 11,
   "id": "59fa9af5-d18b-4c45-881a-da28e6dcdae6",
   "metadata": {},
   "outputs": [],
   "source": [
    "class MyDummyClassifier(BaseEstimator):\n",
    "    def fit(self,x,y):\n",
    "        pass\n",
    "    def predict(self,x):\n",
    "        pred = np.zeros((x.shape[0],1))\n",
    "        # print(pred)\n",
    "        for i in range(x.shape[0]):\n",
    "            if x['Sex'].iloc[i] == 1: #남자일때\n",
    "                pred[i] = 0 # 사망\n",
    "            else: #여자일때\n",
    "                pred[i] = 1 # 생존\n",
    "        return pred"
   ]
  },
  {
   "cell_type": "code",
   "execution_count": 3,
   "id": "3d9e7a4d-8b12-48cc-98ed-9377bd8707b0",
   "metadata": {},
   "outputs": [],
   "source": [
    "import pandas as pd\n",
    "from sklearn.model_selection import train_test_split\n",
    "from sklearn.metrics import accuracy_score"
   ]
  },
  {
   "cell_type": "code",
   "execution_count": 4,
   "id": "5cd52e01-66a2-48a1-aa0e-e852d35e9fe3",
   "metadata": {},
   "outputs": [],
   "source": [
    "def fillna(df):\n",
    "    df['Age'].fillna(df['Age'].mean(),inplace=True)\n",
    "    df['Cabin'].fillna('N',inplace=True)\n",
    "    df['Embarked'].fillna('N',inplace=True)\n",
    "    df['Fare'].fillna(0,inplace=True)\n",
    "    return df\n",
    "\n",
    "def drop_features(df):\n",
    "    df.drop(columns=['PassengerId','Name','Ticket'],\n",
    "            inplace=True)\n",
    "    return df\n",
    "\n",
    "def format_features(df):\n",
    "    from sklearn.preprocessing import LabelEncoder\n",
    "    df['Cabin'] = df['Cabin'].str[:1]\n",
    "    features = ['Cabin','Sex','Embarked']\n",
    "    for feature in features:\n",
    "        le = LabelEncoder()\n",
    "        df[feature] = le.fit_transform(df[feature])\n",
    "    return df\n",
    "\n",
    "def transform_features(df):\n",
    "    df = fillna(df)\n",
    "    df = drop_features(df)\n",
    "    df = format_features(df)\n",
    "    return df"
   ]
  },
  {
   "cell_type": "code",
   "execution_count": 6,
   "id": "74c40bf8-d900-4d0d-a50a-615f922313f5",
   "metadata": {},
   "outputs": [],
   "source": [
    "df = pd.read_csv('titanic_train.csv')\n",
    "y = df['Survived']\n",
    "x = df.drop(columns='Survived')\n",
    "x = transform_features(x)\n",
    "x_train,x_test,y_train,y_test = train_test_split(x,\n",
    "                                                 y,\n",
    "                                                 test_size=0.2,\n",
    "                                                 random_state=11)"
   ]
  },
  {
   "cell_type": "code",
   "execution_count": 12,
   "id": "8333041e-10d7-4607-bae8-6c653e3e212d",
   "metadata": {},
   "outputs": [
    {
     "data": {
      "text/plain": [
       "0.8324022346368715"
      ]
     },
     "execution_count": 12,
     "metadata": {},
     "output_type": "execute_result"
    }
   ],
   "source": [
    "myclf = MyDummyClassifier()\n",
    "myclf.fit(x_train,y_train)\n",
    "pred = myclf.predict(x_test)\n",
    "accuracy_score(y_test,pred)"
   ]
  },
  {
   "cell_type": "code",
   "execution_count": 13,
   "id": "769c642e-3ac4-4a72-8aee-95a2c79f744c",
   "metadata": {},
   "outputs": [],
   "source": [
    "from sklearn.metrics import confusion_matrix"
   ]
  },
  {
   "cell_type": "code",
   "execution_count": 14,
   "id": "26406a0e-2706-44e6-a4c6-230b9e018d7a",
   "metadata": {},
   "outputs": [
    {
     "data": {
      "text/plain": [
       "array([[103,  15],\n",
       "       [ 15,  46]], dtype=int64)"
      ]
     },
     "execution_count": 14,
     "metadata": {},
     "output_type": "execute_result"
    }
   ],
   "source": [
    "confusion_matrix(y_test,pred)"
   ]
  },
  {
   "cell_type": "code",
   "execution_count": 18,
   "id": "62c42729-7fd5-4c7c-9398-135a3c43faf9",
   "metadata": {},
   "outputs": [],
   "source": [
    "def get_clf_eval(y_test,pred):\n",
    "    from sklearn.metrics import accuracy_score,confusion_matrix,precision_score,recall_score\n",
    "    confusion = confusion_matrix(y_test,pred)\n",
    "    accuracy = accuracy_score(y_test,pred)\n",
    "    precision = precision_score(y_test,pred)\n",
    "    recall = recall_score(y_test,pred)\n",
    "    print('오차행렬')\n",
    "    print(confusion)\n",
    "    print(f'정확도:{accuracy:.4f},정밀도:{precision:.4f},재현율:{recall:.4f}')"
   ]
  },
  {
   "cell_type": "code",
   "execution_count": 19,
   "id": "0b383d04-8863-4218-814e-6a5b86e89a7e",
   "metadata": {},
   "outputs": [
    {
     "name": "stdout",
     "output_type": "stream",
     "text": [
      "오차행렬\n",
      "[[103  15]\n",
      " [ 15  46]]\n",
      "정확도:0.8324,정밀도:0.7541,재현율:0.7541\n"
     ]
    }
   ],
   "source": [
    "get_clf_eval(y_test,pred)"
   ]
  },
  {
   "cell_type": "code",
   "execution_count": 20,
   "id": "f2a82ea6-11a5-4b22-bc94-17184a992990",
   "metadata": {},
   "outputs": [],
   "source": [
    "from sklearn.linear_model import LogisticRegression"
   ]
  },
  {
   "cell_type": "code",
   "execution_count": 24,
   "id": "9db11e54-14ad-4e70-891f-89dce3785c55",
   "metadata": {},
   "outputs": [
    {
     "name": "stdout",
     "output_type": "stream",
     "text": [
      "오차행렬\n",
      "[[104  14]\n",
      " [ 13  48]]\n",
      "정확도:0.8492,정밀도:0.7742,재현율:0.7869\n"
     ]
    }
   ],
   "source": [
    "lr_clf = LogisticRegression(max_iter=200)\n",
    "lr_clf.fit(x_train,y_train)\n",
    "pred = lr_clf.predict(x_test)\n",
    "get_clf_eval(y_test,pred)"
   ]
  },
  {
   "cell_type": "code",
   "execution_count": 27,
   "id": "a59478d1-89ff-46da-8268-a21d36a61893",
   "metadata": {
    "collapsed": true,
    "jupyter": {
     "outputs_hidden": true
    },
    "tags": []
   },
   "outputs": [
    {
     "data": {
      "text/plain": [
       "array([[0.46225822, 0.53774178, 1.        ],\n",
       "       [0.8787576 , 0.1212424 , 0.        ],\n",
       "       [0.87718656, 0.12281344, 0.        ],\n",
       "       [0.88246099, 0.11753901, 0.        ],\n",
       "       [0.85525789, 0.14474211, 0.        ],\n",
       "       [0.8821376 , 0.1178624 , 0.        ],\n",
       "       [0.88849152, 0.11150848, 0.        ],\n",
       "       [0.20874993, 0.79125007, 1.        ],\n",
       "       [0.78280989, 0.21719011, 0.        ],\n",
       "       [0.36908393, 0.63091607, 1.        ],\n",
       "       [0.89970505, 0.10029495, 0.        ],\n",
       "       [0.87511886, 0.12488114, 0.        ],\n",
       "       [0.87718062, 0.12281938, 0.        ],\n",
       "       [0.88844595, 0.11155405, 0.        ],\n",
       "       [0.4369463 , 0.5630537 , 1.        ],\n",
       "       [0.8590793 , 0.1409207 , 0.        ],\n",
       "       [0.9037593 , 0.0962407 , 0.        ],\n",
       "       [0.73330718, 0.26669282, 0.        ],\n",
       "       [0.72472845, 0.27527155, 0.        ],\n",
       "       [0.1714978 , 0.8285022 , 1.        ],\n",
       "       [0.75348128, 0.24651872, 0.        ],\n",
       "       [0.61884699, 0.38115301, 0.        ],\n",
       "       [0.85472168, 0.14527832, 0.        ],\n",
       "       [0.81462147, 0.18537853, 0.        ],\n",
       "       [0.88807801, 0.11192199, 0.        ],\n",
       "       [0.76538067, 0.23461933, 0.        ],\n",
       "       [0.85955242, 0.14044758, 0.        ],\n",
       "       [0.92580757, 0.07419243, 0.        ],\n",
       "       [0.71948175, 0.28051825, 0.        ],\n",
       "       [0.69547831, 0.30452169, 0.        ],\n",
       "       [0.05281744, 0.94718256, 1.        ],\n",
       "       [0.18291269, 0.81708731, 1.        ],\n",
       "       [0.87305333, 0.12694667, 0.        ],\n",
       "       [0.17375641, 0.82624359, 1.        ],\n",
       "       [0.60043789, 0.39956211, 0.        ],\n",
       "       [0.76538067, 0.23461933, 0.        ],\n",
       "       [0.92761582, 0.07238418, 0.        ],\n",
       "       [0.38929705, 0.61070295, 1.        ],\n",
       "       [0.94711286, 0.05288714, 0.        ],\n",
       "       [0.89614615, 0.10385385, 0.        ],\n",
       "       [0.64872424, 0.35127576, 0.        ],\n",
       "       [0.91659626, 0.08340374, 0.        ],\n",
       "       [0.1783953 , 0.8216047 , 1.        ],\n",
       "       [0.29215237, 0.70784763, 1.        ],\n",
       "       [0.36967739, 0.63032261, 1.        ],\n",
       "       [0.36966122, 0.63033878, 1.        ],\n",
       "       [0.0811576 , 0.9188424 , 1.        ],\n",
       "       [0.64064123, 0.35935877, 0.        ],\n",
       "       [0.05112564, 0.94887436, 1.        ],\n",
       "       [0.88804373, 0.11195627, 0.        ],\n",
       "       [0.40775589, 0.59224411, 1.        ],\n",
       "       [0.88844595, 0.11155405, 0.        ],\n",
       "       [0.8672986 , 0.1327014 , 0.        ],\n",
       "       [0.27456916, 0.72543084, 1.        ],\n",
       "       [0.69056087, 0.30943913, 0.        ],\n",
       "       [0.80285314, 0.19714686, 0.        ],\n",
       "       [0.77357302, 0.22642698, 0.        ],\n",
       "       [0.87718552, 0.12281448, 0.        ],\n",
       "       [0.84590773, 0.15409227, 0.        ],\n",
       "       [0.56717301, 0.43282699, 0.        ],\n",
       "       [0.71977165, 0.28022835, 0.        ],\n",
       "       [0.89932744, 0.10067256, 0.        ],\n",
       "       [0.45479974, 0.54520026, 1.        ],\n",
       "       [0.48508042, 0.51491958, 1.        ],\n",
       "       [0.55574042, 0.44425958, 0.        ],\n",
       "       [0.90545559, 0.09454441, 0.        ],\n",
       "       [0.33349412, 0.66650588, 1.        ],\n",
       "       [0.40616088, 0.59383912, 1.        ],\n",
       "       [0.04819987, 0.95180013, 1.        ],\n",
       "       [0.85172007, 0.14827993, 0.        ],\n",
       "       [0.87123121, 0.12876879, 0.        ],\n",
       "       [0.83167911, 0.16832089, 0.        ],\n",
       "       [0.89614392, 0.10385608, 0.        ],\n",
       "       [0.05203857, 0.94796143, 1.        ],\n",
       "       [0.80125054, 0.19874946, 0.        ],\n",
       "       [0.88844595, 0.11155405, 0.        ],\n",
       "       [0.65207128, 0.34792872, 0.        ],\n",
       "       [0.81623119, 0.18376881, 0.        ],\n",
       "       [0.1643846 , 0.8356154 , 1.        ],\n",
       "       [0.87718552, 0.12281448, 0.        ],\n",
       "       [0.20532804, 0.79467196, 1.        ],\n",
       "       [0.35417975, 0.64582025, 1.        ],\n",
       "       [0.06878543, 0.93121457, 1.        ],\n",
       "       [0.8667967 , 0.1332033 , 0.        ],\n",
       "       [0.05111994, 0.94888006, 1.        ],\n",
       "       [0.04975129, 0.95024871, 1.        ],\n",
       "       [0.8463742 , 0.1536258 , 0.        ],\n",
       "       [0.87454132, 0.12545868, 0.        ],\n",
       "       [0.1253991 , 0.8746009 , 1.        ],\n",
       "       [0.88844595, 0.11155405, 0.        ],\n",
       "       [0.88844595, 0.11155405, 0.        ],\n",
       "       [0.76538067, 0.23461933, 0.        ],\n",
       "       [0.7674948 , 0.2325052 , 0.        ],\n",
       "       [0.88844595, 0.11155405, 0.        ],\n",
       "       [0.36966122, 0.63033878, 1.        ],\n",
       "       [0.92431888, 0.07568112, 0.        ],\n",
       "       [0.07113242, 0.92886758, 1.        ],\n",
       "       [0.89934354, 0.10065646, 0.        ],\n",
       "       [0.49504774, 0.50495226, 1.        ],\n",
       "       [0.03493701, 0.96506299, 1.        ],\n",
       "       [0.49837818, 0.50162182, 1.        ],\n",
       "       [0.90557663, 0.09442337, 0.        ],\n",
       "       [0.05219979, 0.94780021, 1.        ],\n",
       "       [0.90251391, 0.09748609, 0.        ],\n",
       "       [0.47016027, 0.52983973, 1.        ],\n",
       "       [0.87170528, 0.12829472, 0.        ],\n",
       "       [0.85903262, 0.14096738, 0.        ],\n",
       "       [0.85172038, 0.14827962, 0.        ],\n",
       "       [0.5507405 , 0.4492595 , 0.        ],\n",
       "       [0.89202116, 0.10797884, 0.        ],\n",
       "       [0.8828528 , 0.1171472 , 0.        ],\n",
       "       [0.89117747, 0.10882253, 0.        ],\n",
       "       [0.59683482, 0.40316518, 0.        ],\n",
       "       [0.34593142, 0.65406858, 1.        ],\n",
       "       [0.88807801, 0.11192199, 0.        ],\n",
       "       [0.92904896, 0.07095104, 0.        ],\n",
       "       [0.87552591, 0.12447409, 0.        ],\n",
       "       [0.80147926, 0.19852074, 0.        ],\n",
       "       [0.07402069, 0.92597931, 1.        ],\n",
       "       [0.93136576, 0.06863424, 0.        ],\n",
       "       [0.88845474, 0.11154526, 0.        ],\n",
       "       [0.8691475 , 0.1308525 , 0.        ],\n",
       "       [0.93631103, 0.06368897, 0.        ],\n",
       "       [0.67798695, 0.32201305, 0.        ],\n",
       "       [0.98839169, 0.01160831, 0.        ],\n",
       "       [0.88845474, 0.11154526, 0.        ],\n",
       "       [0.88380826, 0.11619174, 0.        ],\n",
       "       [0.68326503, 0.31673497, 0.        ],\n",
       "       [0.32243719, 0.67756281, 1.        ],\n",
       "       [0.67834784, 0.32165216, 0.        ],\n",
       "       [0.03493701, 0.96506299, 1.        ],\n",
       "       [0.54614983, 0.45385017, 0.        ],\n",
       "       [0.26466244, 0.73533756, 1.        ],\n",
       "       [0.55651282, 0.44348718, 0.        ],\n",
       "       [0.43046909, 0.56953091, 1.        ],\n",
       "       [0.64862494, 0.35137506, 0.        ],\n",
       "       [0.25142568, 0.74857432, 1.        ],\n",
       "       [0.81390667, 0.18609333, 0.        ],\n",
       "       [0.89611896, 0.10388104, 0.        ],\n",
       "       [0.1963981 , 0.8036019 , 1.        ],\n",
       "       [0.0910362 , 0.9089638 , 1.        ],\n",
       "       [0.85172038, 0.14827962, 0.        ],\n",
       "       [0.88197819, 0.11802181, 0.        ],\n",
       "       [0.8987747 , 0.1012253 , 0.        ],\n",
       "       [0.90841838, 0.09158162, 0.        ],\n",
       "       [0.33171417, 0.66828583, 1.        ],\n",
       "       [0.9243636 , 0.0756364 , 0.        ],\n",
       "       [0.76582887, 0.23417113, 0.        ],\n",
       "       [0.08201749, 0.91798251, 1.        ],\n",
       "       [0.83174948, 0.16825052, 0.        ],\n",
       "       [0.57082715, 0.42917285, 0.        ],\n",
       "       [0.36865116, 0.63134884, 1.        ],\n",
       "       [0.36372938, 0.63627062, 1.        ],\n",
       "       [0.87724072, 0.12275928, 0.        ],\n",
       "       [0.22228761, 0.77771239, 1.        ],\n",
       "       [0.11933284, 0.88066716, 1.        ],\n",
       "       [0.51293623, 0.48706377, 0.        ],\n",
       "       [0.86713645, 0.13286355, 0.        ],\n",
       "       [0.24820137, 0.75179863, 1.        ],\n",
       "       [0.30970415, 0.69029585, 1.        ],\n",
       "       [0.85033176, 0.14966824, 0.        ],\n",
       "       [0.20683219, 0.79316781, 1.        ],\n",
       "       [0.90877617, 0.09122383, 0.        ],\n",
       "       [0.33356119, 0.66643881, 1.        ],\n",
       "       [0.61998608, 0.38001392, 0.        ],\n",
       "       [0.3489934 , 0.6510066 , 1.        ],\n",
       "       [0.11570657, 0.88429343, 1.        ],\n",
       "       [0.69045453, 0.30954547, 0.        ],\n",
       "       [0.90839926, 0.09160074, 0.        ],\n",
       "       [0.10702924, 0.89297076, 1.        ],\n",
       "       [0.88849152, 0.11150848, 0.        ],\n",
       "       [0.14589143, 0.85410857, 1.        ],\n",
       "       [0.74894567, 0.25105433, 0.        ],\n",
       "       [0.75974848, 0.24025152, 0.        ],\n",
       "       [0.59859607, 0.40140393, 0.        ],\n",
       "       [0.93771453, 0.06228547, 0.        ],\n",
       "       [0.85902566, 0.14097434, 0.        ],\n",
       "       [0.45536273, 0.54463727, 1.        ],\n",
       "       [0.37319336, 0.62680664, 1.        ]])"
      ]
     },
     "execution_count": 27,
     "metadata": {},
     "output_type": "execute_result"
    }
   ],
   "source": [
    "pred_proba = lr_clf.predict_proba(x_test)\n",
    "np.concatenate([pred_proba,pred.reshape(-1,1)],axis=1)"
   ]
  },
  {
   "cell_type": "code",
   "execution_count": 28,
   "id": "294b3772-60ce-4f94-a924-dccb0b67d097",
   "metadata": {},
   "outputs": [],
   "source": [
    "from sklearn.preprocessing import Binarizer"
   ]
  },
  {
   "cell_type": "code",
   "execution_count": 30,
   "id": "38f8865e-f9a7-402b-84ba-c2393d86cebd",
   "metadata": {},
   "outputs": [
    {
     "data": {
      "text/plain": [
       "array([[0., 0., 1.],\n",
       "       [1., 0., 0.],\n",
       "       [0., 0., 1.]])"
      ]
     },
     "execution_count": 30,
     "metadata": {},
     "output_type": "execute_result"
    }
   ],
   "source": [
    "x = [[1,-1,2],\n",
    "     [2,0,0],\n",
    "     [0,1.1,1.2]]\n",
    "binarizer = Binarizer(threshold=1.1)\n",
    "binarizer.fit_transform(x)"
   ]
  },
  {
   "cell_type": "code",
   "execution_count": 37,
   "id": "9c7494b2-b864-4325-806f-0bdd0a7122c7",
   "metadata": {
    "tags": []
   },
   "outputs": [],
   "source": [
    "binarizer = Binarizer(threshold=0.6)\n",
    "pred_1 = binarizer.fit_transform(pred_proba[:,1].reshape(-1,1))"
   ]
  },
  {
   "cell_type": "code",
   "execution_count": 38,
   "id": "28def1e6-d68c-4eeb-aa91-322b361aa5c1",
   "metadata": {},
   "outputs": [
    {
     "name": "stdout",
     "output_type": "stream",
     "text": [
      "오차행렬\n",
      "[[112   6]\n",
      " [ 16  45]]\n",
      "정확도:0.8771,정밀도:0.8824,재현율:0.7377\n"
     ]
    }
   ],
   "source": [
    "get_clf_eval(y_test,pred_1)\n",
    "# 오차행렬\n",
    "# [[104  14]\n",
    "#  [ 13  48]]\n",
    "# 정확도:0.8492,정밀도:0.7742,재현율:0.7869\n",
    "\n",
    "# 0.4일때\n",
    "# 오차행렬\n",
    "# [[98 20]\n",
    "#  [10 51]]\n",
    "# 정확도:0.8324,정밀도:0.7183,재현율:0.8361"
   ]
  },
  {
   "cell_type": "code",
   "execution_count": null,
   "id": "a1b6ec6d-ef12-4e5e-8639-84ce9dfeedce",
   "metadata": {},
   "outputs": [],
   "source": []
  }
 ],
 "metadata": {
  "kernelspec": {
   "display_name": "Python 3 (ipykernel)",
   "language": "python",
   "name": "python3"
  },
  "language_info": {
   "codemirror_mode": {
    "name": "ipython",
    "version": 3
   },
   "file_extension": ".py",
   "mimetype": "text/x-python",
   "name": "python",
   "nbconvert_exporter": "python",
   "pygments_lexer": "ipython3",
   "version": "3.10.9"
  }
 },
 "nbformat": 4,
 "nbformat_minor": 5
}
